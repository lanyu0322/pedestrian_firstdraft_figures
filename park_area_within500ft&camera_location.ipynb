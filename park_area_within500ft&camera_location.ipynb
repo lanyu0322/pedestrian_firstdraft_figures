{
  "nbformat": 4,
  "nbformat_minor": 0,
  "metadata": {
    "colab": {
      "name": "park_area_within500ft&camera_location.ipynb",
      "provenance": [],
      "collapsed_sections": [],
      "include_colab_link": true
    },
    "kernelspec": {
      "name": "python3",
      "display_name": "Python 3"
    }
  },
  "cells": [
    {
      "cell_type": "markdown",
      "metadata": {
        "id": "view-in-github",
        "colab_type": "text"
      },
      "source": [
        "<a href=\"https://colab.research.google.com/github/lanyu0322/pedestrian_firstdraft_figures/blob/master/park_area_within500ft%26camera_location.ipynb\" target=\"_parent\"><img src=\"https://colab.research.google.com/assets/colab-badge.svg\" alt=\"Open In Colab\"/></a>"
      ]
    },
    {
      "cell_type": "code",
      "metadata": {
        "id": "9EqnjmAbJW8e",
        "colab_type": "code",
        "colab": {}
      },
      "source": [
        "import os\n",
        "import numpy as np\n",
        "import pandas as pd\n",
        "\n",
        "try:\n",
        "  import geopandas as gp\n",
        "except:\n",
        "  !pip install geopandas\n",
        "\n",
        "import pyproj\n",
        "from matplotlib import pyplot as plt\n",
        "from shapely.geometry import Point"
      ],
      "execution_count": null,
      "outputs": []
    },
    {
      "cell_type": "code",
      "metadata": {
        "id": "uv44KJWabpwK",
        "colab_type": "code",
        "colab": {
          "base_uri": "https://localhost:8080/",
          "height": 118
        },
        "outputId": "3bd1a385-baad-4f98-baeb-8889d6c10afd"
      },
      "source": [
        "from google.colab import drive\n",
        "drive.mount('/content/drive')"
      ],
      "execution_count": null,
      "outputs": [
        {
          "output_type": "stream",
          "text": [
            "Go to this URL in a browser: https://accounts.google.com/o/oauth2/auth?client_id=947318989803-6bn6qk8qdgf4n4g3pfee6491hc0brc4i.apps.googleusercontent.com&redirect_uri=urn%3aietf%3awg%3aoauth%3a2.0%3aoob&response_type=code&scope=email%20https%3a%2f%2fwww.googleapis.com%2fauth%2fdocs.test%20https%3a%2f%2fwww.googleapis.com%2fauth%2fdrive%20https%3a%2f%2fwww.googleapis.com%2fauth%2fdrive.photos.readonly%20https%3a%2f%2fwww.googleapis.com%2fauth%2fpeopleapi.readonly\n",
            "\n",
            "Enter your authorization code:\n",
            "··········\n",
            "Mounted at /content/drive\n"
          ],
          "name": "stdout"
        }
      ]
    },
    {
      "cell_type": "code",
      "metadata": {
        "id": "I5Aj-Rk9J4Ha",
        "colab_type": "code",
        "colab": {}
      },
      "source": [
        "# -- read in the camera data\n",
        "camera_fname = os.path.join(\"drive\", \"My Drive\", \"lwir\", \"data\", \"nycdot\", \n",
        "                            \"cams_ft_wd.feather\")\n",
        "camera = pd.read_feather(camera_fname)"
      ],
      "execution_count": null,
      "outputs": []
    },
    {
      "cell_type": "code",
      "metadata": {
        "id": "IlQKfbW8JvyH",
        "colab_type": "code",
        "colab": {}
      },
      "source": [
        "# -- define helper function for integrating within a circle\n",
        "def integrate_geodata(geo, vals, lat, lon, rad):\n",
        "  \n",
        "  # -- convert lat/lon to NY State Plane\n",
        "  ll_nyspd = pyproj.Proj(\"epsg:2263\", preserve_units=True)(lon, lat)\n",
        "  \n",
        "  # -- define a circle\n",
        "  circ = Point(ll_nyspd[0], ll_nyspd[1]).buffer(rad)\n",
        "  \n",
        "  # -- calculate the intersection of the circle with the geometry\n",
        "  inter = geo.buffer(0).intersection(circ)\n",
        "  \n",
        "  # -- determine the overlap fraction\n",
        "  frac = inter.area / geo.area\n",
        "  return (frac * vals).sum() "
      ],
      "execution_count": null,
      "outputs": []
    },
    {
      "cell_type": "code",
      "metadata": {
        "id": "5U-z2B3kY55t",
        "colab_type": "code",
        "colab": {}
      },
      "source": [
        "# -- convert a geodataframe to NYSP coords\n",
        "def convert_to_nyc(input_data):\n",
        "  input_data.geometry = input_data.geometry.to_crs(epsg=2263)"
      ],
      "execution_count": null,
      "outputs": []
    },
    {
      "cell_type": "code",
      "metadata": {
        "id": "l1Yvmdz_YzGo",
        "colab_type": "code",
        "colab": {}
      },
      "source": [
        "# for each camera:\n",
        "park_fname = os.path.join(\"drive\", \"My Drive\", \"lwir\", \"data\", \"parks\", \n",
        "                          \"properties\", \n",
        "                          \"geo_export_5b605687-0f81-4fe4-9fb7-ec27cd43ab5f.shp\")\n",
        "park = gp.read_file(park_fname)\n",
        "park_data = park[park[\"borough\"] == \"M\"].copy()"
      ],
      "execution_count": null,
      "outputs": []
    },
    {
      "cell_type": "code",
      "metadata": {
        "id": "WUHk0I3BY9I9",
        "colab_type": "code",
        "colab": {}
      },
      "source": [
        "# -- convert Manhattan parks geometries to NYSP\n",
        "convert_to_nyc(park_data)"
      ],
      "execution_count": null,
      "outputs": []
    },
    {
      "cell_type": "code",
      "metadata": {
        "id": "K1jjTnqTZW6f",
        "colab_type": "code",
        "colab": {
          "base_uri": "https://localhost:8080/",
          "height": 196
        },
        "outputId": "255ad145-cd67-4133-c7bb-837885ad5789"
      },
      "source": [
        "# -- calcualte park area within 500 ft\n",
        "cam_len = len(camera)\n",
        "rad = 500.\n",
        "park_area = []\n",
        "\n",
        "for ii in range(cam_len):\n",
        "\n",
        "  if ii % 15 == 0:\n",
        "    print(\"working on {0} of {1}\".format(ii, cam_len))\n",
        "\n",
        "  park_area.append(integrate_geodata(park_data.geometry, park_data.area, \n",
        "                                     camera.lat[ii], camera.lon[ii], rad))\n"
      ],
      "execution_count": null,
      "outputs": [
        {
          "output_type": "stream",
          "text": [
            "working on 0 of 157\n",
            "working on 15 of 157\n",
            "working on 30 of 157\n",
            "working on 45 of 157\n",
            "working on 60 of 157\n",
            "working on 75 of 157\n",
            "working on 90 of 157\n",
            "working on 105 of 157\n",
            "working on 120 of 157\n",
            "working on 135 of 157\n",
            "working on 150 of 157\n"
          ],
          "name": "stdout"
        }
      ]
    },
    {
      "cell_type": "code",
      "metadata": {
        "id": "bQ4MkbVvNnPs",
        "colab_type": "code",
        "colab": {}
      },
      "source": [
        "# -- create DataFrame holding park area\n",
        "park_area_df = pd.DataFrame(park_area, columns=[\"park_area_500ft\"])"
      ],
      "execution_count": null,
      "outputs": []
    },
    {
      "cell_type": "code",
      "metadata": {
        "id": "2gJecsV5KZRA",
        "colab_type": "code",
        "colab": {}
      },
      "source": [
        "# -- write to csv\n",
        "oname = os.path.join(\"drive\", \"My Drive\", \"lwir\", \"data\", \"4_pop_fit\", \n",
        "                     \"parkarea.csv\")\n",
        "park_area_df.to_csv(oname, index=False)"
      ],
      "execution_count": null,
      "outputs": []
    },
    {
      "cell_type": "code",
      "metadata": {
        "id": "ZnAhQO8FTl77",
        "colab_type": "code",
        "colab": {
          "base_uri": "https://localhost:8080/",
          "height": 498
        },
        "outputId": "fb79d71a-56f5-49e9-eb21-ec2ce2474c4a"
      },
      "source": [
        "# -- plot it\n",
        "#    (Borough geojson from: https://data.cityofnewyork.us/City-Government/Borough-Boundaries/tqmj-j8zm)\n",
        "bpath = os.path.join(\"drive\", \"My Drive\", \"lwir\", \"data\", \"boro_boundaries\")\n",
        "bname = \"Borough Boundaries.geojson\"\n",
        "boros = gp.read_file(os.path.join(bpath, bname))\n",
        "boros = boros[boros.boro_name == \"Manhattan\"]\n",
        "\n",
        "# -- set the parks geometries file name\n",
        "dpath = os.path.join(\"drive\", \"My Drive\", \"lwir\", \"data\", \"parks\", \"properties\")\n",
        "fname = \"geo_export_5b605687-0f81-4fe4-9fb7-ec27cd43ab5f.shp\"\n",
        "\n",
        "fig = plt.figure()\n",
        "\n",
        "# -- load the parks geometries and convert to NY State Plane\n",
        "parks = gp.read_file(os.path.join(dpath, fname))\n",
        "parks_m = parks[parks.borough == \"M\"]\n",
        "\n",
        "# -- plot it\n",
        "fig, ax = plt.subplots(figsize=(8, 8))\n",
        "ax.set_facecolor(\"lightblue\")\n",
        "boros.plot(color=\"grey\", ax=ax, legend=True)\n",
        "#parks_m.plot(color=\"orange\", ax=ax, legend=True)\n",
        "\n",
        "ax.scatter(camera.lon, camera.lat, s=park_area_df/2000., alpha=0.5, color=\"limegreen\", label='Park_Area')\n",
        "ax.legend(loc='upper left')\n",
        "#plt.title(\"Enclosed Park Area in Manhattan\")\n",
        "\n",
        "fig.text(0.9, 0.5, \"Park area within 500ft\", ha=\"center\", \n",
        "         va=\"center\", rotation=-90, fontsize=14)\n",
        "outfile = os.path.join(\"drive\", \"My Drive\", \"lwir\", \"output\", \"figure7\", \"Enclosed Park Area in Manhattan.png\")\n",
        "fig.savefig(outfile)\n"
      ],
      "execution_count": null,
      "outputs": [
        {
          "output_type": "display_data",
          "data": {
            "text/plain": [
              "<Figure size 432x288 with 0 Axes>"
            ]
          },
          "metadata": {
            "tags": []
          }
        },
        {
          "output_type": "display_data",
          "data": {
            "image/png": "[encoded data removed]",
            "text/plain": [
              "<Figure size 576x576 with 1 Axes>"
            ]
          },
          "metadata": {
            "tags": [],
            "needs_background": "light"
          }
        }
      ]
    },
    {
      "cell_type": "code",
      "metadata": {
        "id": "6bSjgXVfYGzR",
        "colab_type": "code",
        "colab": {}
      },
      "source": [
        "fig = plt.figure()\n",
        "\n",
        "# -- load the parks geometries and convert to NY State Plane\n",
        "parks = gp.read_file(os.path.join(dpath, fname))\n",
        "parks_m = parks[parks.borough == \"M\"]\n",
        "\n",
        "# -- plot it\n",
        "fig, ax = plt.subplots(figsize=(8, 8))\n",
        "ax.set_facecolor(\"lightblue\")\n",
        "boros.plot(color=\"grey\", ax=ax, legend=True)\n",
        "parks_m.plot(color=\"orange\", ax=ax, legend=True)\n",
        "\n",
        "ax.scatter(camera.lon, camera.lat, color=\"green\", label='Camera Location')\n",
        "ax.legend(loc='upper left')\n",
        "#plt.title(\"Enclosed Park Area in Manhattan\")\n",
        "\n",
        "outfile = os.path.join(\"drive\", \"My Drive\", \"lwir\", \"output\", \"Camera Location in Manhattan.png\")\n",
        "fig.savefig(outfile)"
      ],
      "execution_count": null,
      "outputs": []
    },
    {
      "cell_type": "code",
      "metadata": {
        "id": "c_cuwBHhXl0Q",
        "colab_type": "code",
        "colab": {}
      },
      "source": [
        "# -- set indices of cameras that don't have 3-peak behavior\n",
        "bind = [0, 5, 8, 11, 13, 19, 36, 45, 48, 51, 52, 60, 62, 63, 66, 67, 68, 69, \n",
        "        74, 79, 80, 81, 89, 93, 94, 98, 99, 103, 104, 106, 110, 113, 114, 115, \n",
        "        121, 125, 137, 138, 139, 146, 151]\n",
        "camdf = camera[~camera.index.isin(bind)].copy()\n",
        "camdrop = camera[camera.index.isin(bind)].copy()"
      ],
      "execution_count": null,
      "outputs": []
    },
    {
      "cell_type": "code",
      "metadata": {
        "id": "45Hlq63xYMT5",
        "colab_type": "code",
        "colab": {}
      },
      "source": [
        "fig = plt.figure()\n",
        "\n",
        "# -- load the parks geometries and convert to NY State Plane\n",
        "parks = gp.read_file(os.path.join(dpath, fname))\n",
        "parks_m = parks[parks.borough == \"M\"]\n",
        "\n",
        "# -- plot it\n",
        "fig, ax = plt.subplots(figsize=(8, 8))\n",
        "ax.set_facecolor(\"lightblue\")\n",
        "boros.plot(color=\"grey\", ax=ax, legend=True)\n",
        "parks_m.plot(color=\"orange\", ax=ax, legend=True)\n",
        "\n",
        "ax.scatter(camdf.lon, camdf.lat, color=\"green\", label='Camera Location')\n",
        "ax.scatter(camdrop.lon, camdrop.lat, marker=\"x\", color=\"red\", label='Dropped Camera')\n",
        "ax.legend(loc='upper left')\n",
        "#plt.title(\"Enclosed Park Area in Manhattan\")\n",
        "\n",
        "outfile = os.path.join(\"drive\", \"My Drive\", \"lwir\", \"output\", \"dropped Camera Location in Manhattan.png\")\n",
        "fig.savefig(outfile)"
      ],
      "execution_count": null,
      "outputs": []
    },
    {
      "cell_type": "code",
      "metadata": {
        "id": "0bMfIs-dYrhF",
        "colab_type": "code",
        "colab": {}
      },
      "source": [
        ""
      ],
      "execution_count": null,
      "outputs": []
    }
  ]
}