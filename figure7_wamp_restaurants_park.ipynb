{
  "nbformat": 4,
  "nbformat_minor": 0,
  "metadata": {
    "colab": {
      "name": "figure7_wamp_restaurants_park.ipynb",
      "provenance": [],
      "collapsed_sections": [],
      "include_colab_link": true
    },
    "kernelspec": {
      "name": "python3",
      "display_name": "Python 3"
    }
  },
  "cells": [
    {
      "cell_type": "markdown",
      "metadata": {
        "id": "view-in-github",
        "colab_type": "text"
      },
      "source": [
        "<a href=\"https://colab.research.google.com/github/lanyu0322/pedestrian_firstdraft_figures/blob/master/figure7_wamp_restaurants_park.ipynb\" target=\"_parent\"><img src=\"https://colab.research.google.com/assets/colab-badge.svg\" alt=\"Open In Colab\"/></a>"
      ]
    },
    {
      "cell_type": "code",
      "metadata": {
        "id": "4oby4Yq04N79",
        "colab_type": "code",
        "colab": {
          "base_uri": "https://localhost:8080/",
          "height": 443
        },
        "outputId": "9ef779b4-c6ba-4d9c-e228-2e9e81319eba"
      },
      "source": [
        "import os\n",
        "import time\n",
        "import statistics\n",
        "import numpy as np\n",
        "import pandas as pd\n",
        "import matplotlib.pyplot as plt\n",
        "\n",
        "# -- install geopandas\n",
        "try:\n",
        "  import geopandas as gp\n",
        "except:\n",
        "  !pip install geopandas"
      ],
      "execution_count": null,
      "outputs": [
        {
          "output_type": "stream",
          "text": [
            "Collecting geopandas\n",
            "\u001b[?25l  Downloading https://files.pythonhosted.org/packages/83/c5/3cf9cdc39a6f2552922f79915f36b45a95b71fd343cfc51170a5b6ddb6e8/geopandas-0.7.0-py2.py3-none-any.whl (928kB)\n",
            "\u001b[K     |████████████████████████████████| 931kB 2.7MB/s \n",
            "\u001b[?25hRequirement already satisfied: pandas>=0.23.0 in /usr/local/lib/python3.6/dist-packages (from geopandas) (1.0.4)\n",
            "Requirement already satisfied: shapely in /usr/local/lib/python3.6/dist-packages (from geopandas) (1.7.0)\n",
            "Collecting fiona\n",
            "\u001b[?25l  Downloading https://files.pythonhosted.org/packages/ec/20/4e63bc5c6e62df889297b382c3ccd4a7a488b00946aaaf81a118158c6f09/Fiona-1.8.13.post1-cp36-cp36m-manylinux1_x86_64.whl (14.7MB)\n",
            "\u001b[K     |████████████████████████████████| 14.7MB 281kB/s \n",
            "\u001b[?25hCollecting pyproj>=2.2.0\n",
            "\u001b[?25l  Downloading https://files.pythonhosted.org/packages/e5/c3/071e080230ac4b6c64f1a2e2f9161c9737a2bc7b683d2c90b024825000c0/pyproj-2.6.1.post1-cp36-cp36m-manylinux2010_x86_64.whl (10.9MB)\n",
            "\u001b[K     |████████████████████████████████| 10.9MB 48.0MB/s \n",
            "\u001b[?25hRequirement already satisfied: numpy>=1.13.3 in /usr/local/lib/python3.6/dist-packages (from pandas>=0.23.0->geopandas) (1.18.5)\n",
            "Requirement already satisfied: python-dateutil>=2.6.1 in /usr/local/lib/python3.6/dist-packages (from pandas>=0.23.0->geopandas) (2.8.1)\n",
            "Requirement already satisfied: pytz>=2017.2 in /usr/local/lib/python3.6/dist-packages (from pandas>=0.23.0->geopandas) (2018.9)\n",
            "Collecting cligj>=0.5\n",
            "  Downloading https://files.pythonhosted.org/packages/e4/be/30a58b4b0733850280d01f8bd132591b4668ed5c7046761098d665ac2174/cligj-0.5.0-py3-none-any.whl\n",
            "Requirement already satisfied: six>=1.7 in /usr/local/lib/python3.6/dist-packages (from fiona->geopandas) (1.12.0)\n",
            "Requirement already satisfied: click<8,>=4.0 in /usr/local/lib/python3.6/dist-packages (from fiona->geopandas) (7.1.2)\n",
            "Requirement already satisfied: attrs>=17 in /usr/local/lib/python3.6/dist-packages (from fiona->geopandas) (19.3.0)\n",
            "Collecting munch\n",
            "  Downloading https://files.pythonhosted.org/packages/cc/ab/85d8da5c9a45e072301beb37ad7f833cd344e04c817d97e0cc75681d248f/munch-2.5.0-py2.py3-none-any.whl\n",
            "Collecting click-plugins>=1.0\n",
            "  Downloading https://files.pythonhosted.org/packages/e9/da/824b92d9942f4e472702488857914bdd50f73021efea15b4cad9aca8ecef/click_plugins-1.1.1-py2.py3-none-any.whl\n",
            "Installing collected packages: cligj, munch, click-plugins, fiona, pyproj, geopandas\n",
            "Successfully installed click-plugins-1.1.1 cligj-0.5.0 fiona-1.8.13.post1 geopandas-0.7.0 munch-2.5.0 pyproj-2.6.1.post1\n"
          ],
          "name": "stdout"
        }
      ]
    },
    {
      "cell_type": "code",
      "metadata": {
        "id": "0_J66V9kYlN2",
        "colab_type": "code",
        "colab": {
          "base_uri": "https://localhost:8080/",
          "height": 118
        },
        "outputId": "067e0bb8-e16c-4655-d783-3b6b22ac04cc"
      },
      "source": [
        "from google.colab import drive\n",
        "drive.mount('/content/drive')"
      ],
      "execution_count": null,
      "outputs": [
        {
          "output_type": "stream",
          "text": [
            "Go to this URL in a browser: https://accounts.google.com/o/oauth2/auth?client_id=947318989803-6bn6qk8qdgf4n4g3pfee6491hc0brc4i.apps.googleusercontent.com&redirect_uri=urn%3aietf%3awg%3aoauth%3a2.0%3aoob&response_type=code&scope=email%20https%3a%2f%2fwww.googleapis.com%2fauth%2fdocs.test%20https%3a%2f%2fwww.googleapis.com%2fauth%2fdrive%20https%3a%2f%2fwww.googleapis.com%2fauth%2fdrive.photos.readonly%20https%3a%2f%2fwww.googleapis.com%2fauth%2fpeopleapi.readonly\n",
            "\n",
            "Enter your authorization code:\n",
            "··········\n",
            "Mounted at /content/drive\n"
          ],
          "name": "stdout"
        }
      ]
    },
    {
      "cell_type": "code",
      "metadata": {
        "id": "6raxGq01YIM6",
        "colab_type": "code",
        "colab": {
          "base_uri": "https://localhost:8080/",
          "height": 411
        },
        "outputId": "8408a4be-4d43-4202-ef9c-4f0670b09d46"
      },
      "source": [
        "# -- read in the parameters from 4 pop fit\n",
        "fname = os.path.join(\"drive\", \"My Drive\", \"lwir\", \"data\", \"4_pop_fit\", \n",
        "                     \"4pop_para.csv\")\n",
        "# -- \"4pop_para.csv\" is calculated in notebook called \"4_population_fit_constraint\"\n",
        "parr = pd.read_csv(fname)\n",
        "parr"
      ],
      "execution_count": null,
      "outputs": [
        {
          "output_type": "execute_result",
          "data": {
            "text/html": [
              "<div>\n",
              "<style scoped>\n",
              "    .dataframe tbody tr th:only-of-type {\n",
              "        vertical-align: middle;\n",
              "    }\n",
              "\n",
              "    .dataframe tbody tr th {\n",
              "        vertical-align: top;\n",
              "    }\n",
              "\n",
              "    .dataframe thead th {\n",
              "        text-align: right;\n",
              "    }\n",
              "</style>\n",
              "<table border=\"1\" class=\"dataframe\">\n",
              "  <thead>\n",
              "    <tr style=\"text-align: right;\">\n",
              "      <th></th>\n",
              "      <th>m1</th>\n",
              "      <th>m2</th>\n",
              "      <th>m3</th>\n",
              "      <th>sd1</th>\n",
              "      <th>sd2</th>\n",
              "      <th>sd3</th>\n",
              "      <th>scl1</th>\n",
              "      <th>scl2</th>\n",
              "      <th>scl3</th>\n",
              "      <th>wamp</th>\n",
              "      <th>off</th>\n",
              "      <th>lat</th>\n",
              "      <th>lon</th>\n",
              "      <th>rstrant</th>\n",
              "      <th>parkarea</th>\n",
              "      <th>sratio</th>\n",
              "      <th>w_manhattan</th>\n",
              "      <th>r_manhattan</th>\n",
              "      <th>f</th>\n",
              "    </tr>\n",
              "  </thead>\n",
              "  <tbody>\n",
              "    <tr>\n",
              "      <th>0</th>\n",
              "      <td>33.851518</td>\n",
              "      <td>55.863352</td>\n",
              "      <td>72.488416</td>\n",
              "      <td>3.918518</td>\n",
              "      <td>5.293085</td>\n",
              "      <td>5.114898</td>\n",
              "      <td>26.033345</td>\n",
              "      <td>15.170120</td>\n",
              "      <td>42.159781</td>\n",
              "      <td>0.005339</td>\n",
              "      <td>0.898990</td>\n",
              "      <td>40.761268</td>\n",
              "      <td>-73.983564</td>\n",
              "      <td>180</td>\n",
              "      <td>0.000000</td>\n",
              "      <td>0.444916</td>\n",
              "      <td>19861.575731</td>\n",
              "      <td>686.304649</td>\n",
              "      <td>0.460290</td>\n",
              "    </tr>\n",
              "    <tr>\n",
              "      <th>1</th>\n",
              "      <td>30.868148</td>\n",
              "      <td>60.345837</td>\n",
              "      <td>75.860100</td>\n",
              "      <td>6.938260</td>\n",
              "      <td>8.000000</td>\n",
              "      <td>3.259311</td>\n",
              "      <td>4.720661</td>\n",
              "      <td>3.195976</td>\n",
              "      <td>1.740353</td>\n",
              "      <td>0.000612</td>\n",
              "      <td>-0.033425</td>\n",
              "      <td>40.770207</td>\n",
              "      <td>-73.986869</td>\n",
              "      <td>8</td>\n",
              "      <td>0.000000</td>\n",
              "      <td>0.989311</td>\n",
              "      <td>3871.237562</td>\n",
              "      <td>1712.178205</td>\n",
              "      <td>1.426865</td>\n",
              "    </tr>\n",
              "    <tr>\n",
              "      <th>2</th>\n",
              "      <td>36.113705</td>\n",
              "      <td>54.646821</td>\n",
              "      <td>73.313140</td>\n",
              "      <td>6.249098</td>\n",
              "      <td>8.000000</td>\n",
              "      <td>5.752989</td>\n",
              "      <td>58.303856</td>\n",
              "      <td>37.709084</td>\n",
              "      <td>38.905899</td>\n",
              "      <td>0.004441</td>\n",
              "      <td>-0.033366</td>\n",
              "      <td>40.718427</td>\n",
              "      <td>-73.994830</td>\n",
              "      <td>201</td>\n",
              "      <td>58445.164287</td>\n",
              "      <td>0.775829</td>\n",
              "      <td>3115.066002</td>\n",
              "      <td>1024.629008</td>\n",
              "      <td>1.031020</td>\n",
              "    </tr>\n",
              "    <tr>\n",
              "      <th>3</th>\n",
              "      <td>33.243216</td>\n",
              "      <td>50.212947</td>\n",
              "      <td>70.062318</td>\n",
              "      <td>4.659591</td>\n",
              "      <td>7.376655</td>\n",
              "      <td>8.000000</td>\n",
              "      <td>19.616057</td>\n",
              "      <td>16.374775</td>\n",
              "      <td>26.483938</td>\n",
              "      <td>0.000786</td>\n",
              "      <td>0.127762</td>\n",
              "      <td>40.786516</td>\n",
              "      <td>-73.952456</td>\n",
              "      <td>36</td>\n",
              "      <td>19998.479164</td>\n",
              "      <td>0.710402</td>\n",
              "      <td>664.869474</td>\n",
              "      <td>2083.624285</td>\n",
              "      <td>2.936722</td>\n",
              "    </tr>\n",
              "    <tr>\n",
              "      <th>4</th>\n",
              "      <td>32.290951</td>\n",
              "      <td>50.613295</td>\n",
              "      <td>80.000000</td>\n",
              "      <td>5.238203</td>\n",
              "      <td>8.000000</td>\n",
              "      <td>8.000000</td>\n",
              "      <td>14.645069</td>\n",
              "      <td>8.523019</td>\n",
              "      <td>13.630831</td>\n",
              "      <td>0.006409</td>\n",
              "      <td>-0.099433</td>\n",
              "      <td>40.752424</td>\n",
              "      <td>-74.000899</td>\n",
              "      <td>10</td>\n",
              "      <td>27738.524376</td>\n",
              "      <td>0.602847</td>\n",
              "      <td>600.262988</td>\n",
              "      <td>114.241471</td>\n",
              "      <td>0.717580</td>\n",
              "    </tr>\n",
              "    <tr>\n",
              "      <th>...</th>\n",
              "      <td>...</td>\n",
              "      <td>...</td>\n",
              "      <td>...</td>\n",
              "      <td>...</td>\n",
              "      <td>...</td>\n",
              "      <td>...</td>\n",
              "      <td>...</td>\n",
              "      <td>...</td>\n",
              "      <td>...</td>\n",
              "      <td>...</td>\n",
              "      <td>...</td>\n",
              "      <td>...</td>\n",
              "      <td>...</td>\n",
              "      <td>...</td>\n",
              "      <td>...</td>\n",
              "      <td>...</td>\n",
              "      <td>...</td>\n",
              "      <td>...</td>\n",
              "      <td>...</td>\n",
              "    </tr>\n",
              "    <tr>\n",
              "      <th>111</th>\n",
              "      <td>32.926378</td>\n",
              "      <td>57.179910</td>\n",
              "      <td>80.000000</td>\n",
              "      <td>4.349540</td>\n",
              "      <td>8.000000</td>\n",
              "      <td>8.000000</td>\n",
              "      <td>12.543598</td>\n",
              "      <td>4.038215</td>\n",
              "      <td>4.672271</td>\n",
              "      <td>0.006076</td>\n",
              "      <td>-0.058044</td>\n",
              "      <td>40.728600</td>\n",
              "      <td>-74.005356</td>\n",
              "      <td>75</td>\n",
              "      <td>45502.597890</td>\n",
              "      <td>0.469127</td>\n",
              "      <td>4789.079473</td>\n",
              "      <td>619.321194</td>\n",
              "      <td>0.529794</td>\n",
              "    </tr>\n",
              "    <tr>\n",
              "      <th>112</th>\n",
              "      <td>29.228765</td>\n",
              "      <td>48.527859</td>\n",
              "      <td>79.664739</td>\n",
              "      <td>6.109451</td>\n",
              "      <td>8.000000</td>\n",
              "      <td>2.181421</td>\n",
              "      <td>2.029587</td>\n",
              "      <td>3.727794</td>\n",
              "      <td>0.473037</td>\n",
              "      <td>0.000255</td>\n",
              "      <td>0.043587</td>\n",
              "      <td>40.807061</td>\n",
              "      <td>-73.933681</td>\n",
              "      <td>0</td>\n",
              "      <td>233456.280673</td>\n",
              "      <td>2.979109</td>\n",
              "      <td>204.270486</td>\n",
              "      <td>33.049144</td>\n",
              "      <td>3.461102</td>\n",
              "    </tr>\n",
              "    <tr>\n",
              "      <th>113</th>\n",
              "      <td>33.755604</td>\n",
              "      <td>51.192035</td>\n",
              "      <td>72.037956</td>\n",
              "      <td>5.009728</td>\n",
              "      <td>4.035027</td>\n",
              "      <td>4.868089</td>\n",
              "      <td>5.016228</td>\n",
              "      <td>1.949644</td>\n",
              "      <td>3.240852</td>\n",
              "      <td>0.000600</td>\n",
              "      <td>0.034900</td>\n",
              "      <td>40.761216</td>\n",
              "      <td>-73.957815</td>\n",
              "      <td>5</td>\n",
              "      <td>22530.378565</td>\n",
              "      <td>0.472236</td>\n",
              "      <td>4741.542367</td>\n",
              "      <td>1805.796279</td>\n",
              "      <td>0.652085</td>\n",
              "    </tr>\n",
              "    <tr>\n",
              "      <th>114</th>\n",
              "      <td>33.788794</td>\n",
              "      <td>51.541210</td>\n",
              "      <td>69.319872</td>\n",
              "      <td>5.326899</td>\n",
              "      <td>6.808572</td>\n",
              "      <td>7.190802</td>\n",
              "      <td>76.585198</td>\n",
              "      <td>108.585741</td>\n",
              "      <td>114.617837</td>\n",
              "      <td>0.002720</td>\n",
              "      <td>0.278869</td>\n",
              "      <td>40.702389</td>\n",
              "      <td>-74.012806</td>\n",
              "      <td>88</td>\n",
              "      <td>119851.579490</td>\n",
              "      <td>1.135816</td>\n",
              "      <td>17701.876761</td>\n",
              "      <td>426.143228</td>\n",
              "      <td>1.163159</td>\n",
              "    </tr>\n",
              "    <tr>\n",
              "      <th>115</th>\n",
              "      <td>32.088927</td>\n",
              "      <td>52.561020</td>\n",
              "      <td>71.751482</td>\n",
              "      <td>4.371099</td>\n",
              "      <td>4.816718</td>\n",
              "      <td>6.750984</td>\n",
              "      <td>18.735413</td>\n",
              "      <td>8.505221</td>\n",
              "      <td>27.567236</td>\n",
              "      <td>0.004265</td>\n",
              "      <td>0.032643</td>\n",
              "      <td>40.744818</td>\n",
              "      <td>-73.977985</td>\n",
              "      <td>66</td>\n",
              "      <td>0.000000</td>\n",
              "      <td>0.367375</td>\n",
              "      <td>2454.558599</td>\n",
              "      <td>2195.678458</td>\n",
              "      <td>0.696004</td>\n",
              "    </tr>\n",
              "  </tbody>\n",
              "</table>\n",
              "<p>116 rows × 19 columns</p>\n",
              "</div>"
            ],
            "text/plain": [
              "            m1         m2         m3  ...   w_manhattan  r_manhattan         f\n",
              "0    33.851518  55.863352  72.488416  ...  19861.575731   686.304649  0.460290\n",
              "1    30.868148  60.345837  75.860100  ...   3871.237562  1712.178205  1.426865\n",
              "2    36.113705  54.646821  73.313140  ...   3115.066002  1024.629008  1.031020\n",
              "3    33.243216  50.212947  70.062318  ...    664.869474  2083.624285  2.936722\n",
              "4    32.290951  50.613295  80.000000  ...    600.262988   114.241471  0.717580\n",
              "..         ...        ...        ...  ...           ...          ...       ...\n",
              "111  32.926378  57.179910  80.000000  ...   4789.079473   619.321194  0.529794\n",
              "112  29.228765  48.527859  79.664739  ...    204.270486    33.049144  3.461102\n",
              "113  33.755604  51.192035  72.037956  ...   4741.542367  1805.796279  0.652085\n",
              "114  33.788794  51.541210  69.319872  ...  17701.876761   426.143228  1.163159\n",
              "115  32.088927  52.561020  71.751482  ...   2454.558599  2195.678458  0.696004\n",
              "\n",
              "[116 rows x 19 columns]"
            ]
          },
          "metadata": {
            "tags": []
          },
          "execution_count": 23
        }
      ]
    },
    {
      "cell_type": "code",
      "metadata": {
        "id": "Seen8ALE88jd",
        "colab_type": "code",
        "colab": {
          "base_uri": "https://localhost:8080/",
          "height": 497
        },
        "outputId": "e8ef6731-304d-44bf-fe5e-bcd31f8372ac"
      },
      "source": [
        "# -- create a scatter plot of restaurant and wamp \n",
        "sub0 = parr[parr[\"rstrant\"] > 0].copy()\n",
        "sub0[\"wamp\"] = sub0[\"wamp\"] \n",
        "sub0.plot.scatter(\"rstrant\", \"wamp\", figsize=[8, 8], vmax=2, s=50)\n",
        "\n",
        "\n"
      ],
      "execution_count": null,
      "outputs": [
        {
          "output_type": "display_data",
          "data": {
            "image/png": "[encoded data removed]",
            "text/plain": [
              "<Figure size 576x576 with 1 Axes>"
            ]
          },
          "metadata": {
            "tags": [],
            "needs_background": "light"
          }
        }
      ]
    },
    {
      "cell_type": "code",
      "metadata": {
        "id": "OCwSUucb92S0",
        "colab_type": "code",
        "colab": {
          "base_uri": "https://localhost:8080/",
          "height": 280
        },
        "outputId": "b1a10924-c99a-4e43-f1c9-ec0ec601f8c9"
      },
      "source": [
        "# -- create a linear prediction of restaurant and wamp plot\n",
        "import statsmodels.formula.api as sm\n",
        "sub0[\"wpred\"] = sm.ols(\"wamp ~ rstrant\", data=sub0).fit().predict(sub0)\n",
        "ax = sub0.plot.scatter(\"rstrant\", \"wamp\")\n",
        "sub0.plot(\"rstrant\", \"wpred\", c = \"r\", ax=ax)\n",
        "\n",
        "prediction = os.path.join(\"drive\", \"My Drive\", \"lwir\", \"output\", \"figure7\",\n",
        "                       \"prediction wamp & rstrant.png\")\n",
        "plt.savefig(prediction)\n"
      ],
      "execution_count": null,
      "outputs": [
        {
          "output_type": "display_data",
          "data": {
            "image/png": "[encoded data removed]",
            "text/plain": [
              "<Figure size 432x288 with 1 Axes>"
            ]
          },
          "metadata": {
            "tags": [],
            "needs_background": "light"
          }
        }
      ]
    },
    {
      "cell_type": "code",
      "metadata": {
        "id": "sjmuW1xk-Dvd",
        "colab_type": "code",
        "colab": {
          "base_uri": "https://localhost:8080/",
          "height": 501
        },
        "outputId": "80463c95-98a1-47da-d51a-f3b5a8c5eb47"
      },
      "source": [
        "# -- create a scatter plot of park area and wamp \n",
        "sub1 = parr[parr[\"parkarea\"] > 0].copy()\n",
        "sub1[\"wamp\"] = sub1[\"wamp\"] \n",
        "sub1.plot.scatter(\"parkarea\", \"wamp\", logx=True, figsize=[8, 8], vmax=2, s=50)\n",
        "\n",
        "\n"
      ],
      "execution_count": null,
      "outputs": [
        {
          "output_type": "display_data",
          "data": {
            "image/png": "[encoded data removed]",
            "text/plain": [
              "<Figure size 576x576 with 1 Axes>"
            ]
          },
          "metadata": {
            "tags": [],
            "needs_background": "light"
          }
        }
      ]
    },
    {
      "cell_type": "code",
      "metadata": {
        "id": "uyjzjKj3-qKI",
        "colab_type": "code",
        "colab": {
          "base_uri": "https://localhost:8080/",
          "height": 282
        },
        "outputId": "71cda45d-91d5-4f70-ba3d-cfc5c1548e3e"
      },
      "source": [
        "# -- create a linear prediction of parkarea and wamp plot\n",
        "sub1[\"lparea\"] = np.log10(sub1[\"parkarea\"])\n",
        "sub1[\"wpredp\"] = sm.ols(\"wamp ~ lparea\", data=sub1).fit().predict(sub1)\n",
        "ax = sub1.plot.scatter(\"parkarea\", \"wamp\")\n",
        "sub1.plot(\"parkarea\", \"wpredp\", logx=True, c = \"r\", ax=ax)\n",
        "\n",
        "outfile = os.path.join(\"drive\", \"My Drive\", \"lwir\", \"output\", \"figure7\"\n",
        "                       \"prediction wamp & parkarea.png\")\n",
        "plt.savefig(outfile)\n"
      ],
      "execution_count": null,
      "outputs": [
        {
          "output_type": "display_data",
          "data": {
            "image/png": "[encoded data removed]",
            "text/plain": [
              "<Figure size 432x288 with 1 Axes>"
            ]
          },
          "metadata": {
            "tags": [],
            "needs_background": "light"
          }
        }
      ]
    }
  ]
}