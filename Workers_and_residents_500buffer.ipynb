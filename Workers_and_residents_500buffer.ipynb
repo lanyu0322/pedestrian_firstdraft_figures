{
  "nbformat": 4,
  "nbformat_minor": 0,
  "metadata": {
    "colab": {
      "name": "Workers_and_residents_500buffer.ipynb",
      "provenance": [],
      "collapsed_sections": [],
      "include_colab_link": true
    },
    "kernelspec": {
      "name": "python3",
      "display_name": "Python 3"
    }
  },
  "cells": [
    {
      "cell_type": "markdown",
      "metadata": {
        "id": "view-in-github",
        "colab_type": "text"
      },
      "source": [
        "<a href=\"https://colab.research.google.com/github/lanyu0322/pedestrian_firstdraft_figures/blob/master/Workers_and_residents_500buffer.ipynb\" target=\"_parent\"><img src=\"https://colab.research.google.com/assets/colab-badge.svg\" alt=\"Open In Colab\"/></a>"
      ]
    },
    {
      "cell_type": "code",
      "metadata": {
        "id": "2-urLu85gMl3",
        "colab_type": "code",
        "colab": {
          "base_uri": "https://localhost:8080/",
          "height": 33
        },
        "outputId": "6cd4774d-5f91-4be4-edd8-13b1bd697deb"
      },
      "source": [
        "from google.colab import drive\n",
        "drive.mount('/content/drive')\n"
      ],
      "execution_count": null,
      "outputs": [
        {
          "output_type": "stream",
          "text": [
            "Drive already mounted at /content/drive; to attempt to forcibly remount, call drive.mount(\"/content/drive\", force_remount=True).\n"
          ],
          "name": "stdout"
        }
      ]
    },
    {
      "cell_type": "code",
      "metadata": {
        "id": "DT_kJU6atHiO",
        "colab_type": "code",
        "colab": {}
      },
      "source": [
        "import os\n",
        "import time\n",
        "import numpy as np\n",
        "import pandas as pd\n",
        "from shapely.geometry import Point\n",
        "import matplotlib.pyplot as plt\n",
        "# -- install geopandas\n",
        "try:\n",
        "  import geopandas as gp\n",
        "except:\n",
        "  !pip install geopandas\n",
        "\n",
        "import pyproj"
      ],
      "execution_count": null,
      "outputs": []
    },
    {
      "cell_type": "code",
      "metadata": {
        "id": "yG3W9gyQ5ZDI",
        "colab_type": "code",
        "colab": {}
      },
      "source": [
        "# -- read in the weekday counts\n",
        "camera_fname = os.path.join(\"drive\", \"My Drive\", \"lwir\", \"data\", \"nycdot\", \n",
        "                            \"cams_ft_wd.feather\")\n",
        "camera = pd.read_feather(camera_fname)\n",
        "cam_len = len(camera)"
      ],
      "execution_count": null,
      "outputs": []
    },
    {
      "cell_type": "code",
      "metadata": {
        "id": "0SY8LhiQALog",
        "colab_type": "code",
        "colab": {}
      },
      "source": [
        "# # -- set the root directory for the project                                     \n",
        "# rpath = os.path.join(\"drive\", \"My Drive\", \"lwir\")"
      ],
      "execution_count": null,
      "outputs": []
    },
    {
      "cell_type": "code",
      "metadata": {
        "id": "2e73MP4NqjjR",
        "colab_type": "code",
        "colab": {}
      },
      "source": [
        "# # -- important definition\n",
        "# def read_lehd():\n",
        "\n",
        "#     \"\"\" set the file names \"\"\"\n",
        "#     lpath = os.path.join(rpath, \"data\", \"lehd\")\n",
        "#     wname = os.path.join(lpath, \"ny_wac_S000_JT00_2017.csv\") \n",
        "#     rname = os.path.join(lpath, \"ny_rac_S000_JT00_2017.csv\")\n",
        "\n",
        "#     \"\"\" read in the data for NY state \"\"\"\n",
        "#     print(\"READ_LEHD: loading the worker and resident totals for NY state...\")\n",
        "#     wdata = pd.read_csv(wname)\n",
        "#     rdata = pd.read_csv(rname)\n",
        "\n",
        "#     \"\"\" rename the geocode for merging with the shape data \"\"\"\n",
        "#     wdata.rename(columns = {'w_geocode': 'GEOID10'}, inplace=True)\n",
        "#     rdata.rename(columns = {'h_geocode': 'GEOID10'}, inplace=True)\n",
        "\n",
        "#     \"\"\" merge the worker and residents \"\"\"\n",
        "#     cols = [\"GEOID10\", \"C000\"]\n",
        "#     lehd = pd.merge(wdata[cols], rdata[cols], on=\"GEOID10\", \n",
        "#                     suffixes=[\"_w\", \"_r\"], how=\"outer\").fillna(0)\n",
        "\n",
        "#     \"\"\" set the total number of workers and residents \"\"\"\n",
        "#     lehd[\"total_p\"] = lehd[\"C000_w\"] + lehd[\"C000_r\"]\n",
        "\n",
        "#     \"\"\" load the shapes \"\"\"\n",
        "#     print(\"READ_LEHD: loading the census blocks for NY state...\")\n",
        "#     t0      = time.time()\n",
        "#     cpath   = os.path.join(\"drive\", \"My Drive\", \"lwir\", \"data\", \"lehd\", \n",
        "#                            \"tl_2019_36_tabblock10\")\n",
        "#     cname   = os.path.join(cpath, \"tl_2019_36_tabblock10.shp\")\n",
        "#     bl_full = gp.read_file(cname)\n",
        "#     print(\"READ_LEHD:   elapsed time = {0}s\" \\\n",
        "#               .format(round(time.time() - t0), 2))\n",
        "\n",
        "#     \"\"\" convert the shape geo ID to integer \"\"\"\n",
        "#     bl_full[\"GEOID10\"] = bl_full[\"GEOID10\"].astype(int)\n",
        "\n",
        "#     \"\"\" sub-select only New York City Counties \"\"\"\n",
        "#     print(\"READ_LEHD: sub-selecting only Manhattan...\")\n",
        "#     bl_mn = bl_full[bl_full[\"COUNTYFP10\"] == \"061\"]\n",
        "\n",
        "#     \"\"\" merge LEHD data and geographic data \"\"\"\n",
        "#     print(\"READ_LEHD: merging Manhattan census blocks with LODES...\")\n",
        "#     lehd_bl = bl_mn.merge(lehd, on=\"GEOID10\")\n",
        "\n",
        "#     return lehd_bl\n",
        "\n",
        "# # -- define geometry covert to NYSP\n",
        "# def convert_to_nyc(input_data):\n",
        "#   input_data.geometry = input_data.geometry.to_crs(epsg=2263)"
      ],
      "execution_count": null,
      "outputs": []
    },
    {
      "cell_type": "code",
      "metadata": {
        "id": "SzRzRLqb_0uL",
        "colab_type": "code",
        "colab": {
          "base_uri": "https://localhost:8080/",
          "height": 98
        },
        "outputId": "c0c34a32-f893-400e-da80-c299f365d299"
      },
      "source": [
        "# # -- read in the LEHD data                                                      \n",
        "# try:\n",
        "#   lehd\n",
        "# except:\n",
        "#   lehd = read_lehd()"
      ],
      "execution_count": null,
      "outputs": [
        {
          "output_type": "stream",
          "text": [
            "READ_LEHD: loading the worker and resident totals for NY state...\n",
            "READ_LEHD: loading the census blocks for NY state...\n",
            "READ_LEHD:   elapsed time = 29s\n",
            "READ_LEHD: sub-selecting only Manhattan...\n",
            "READ_LEHD: merging Manhattan census blocks with LODES...\n"
          ],
          "name": "stdout"
        }
      ]
    },
    {
      "cell_type": "code",
      "metadata": {
        "id": "Ovf-vi3EPkIF",
        "colab_type": "code",
        "colab": {}
      },
      "source": [
        "def convert_to_nyc(input_data):\n",
        "  input_data.geometry = input_data.geometry.to_crs(epsg=2263)"
      ],
      "execution_count": null,
      "outputs": []
    },
    {
      "cell_type": "code",
      "metadata": {
        "id": "KmIY1Pnp5u_N",
        "colab_type": "code",
        "colab": {}
      },
      "source": [
        "# -- define helper function for integrating within a circle \"\"\"\n",
        "def integrate_geodata(geo, vals, lat, lon, rad):\n",
        "  \n",
        "\n",
        "  ll_nyspd = pyproj.Proj(\"epsg:2263\", preserve_units=True)(lon, lat)\n",
        "\n",
        "\n",
        "  circ = Point(ll_nyspd[0], ll_nyspd[1]).buffer(rad)\n",
        " \n",
        "\n",
        "  inter = geo.intersection(circ)\n",
        "  \n",
        "\n",
        "  frac = inter.area / geo.area\n",
        "  return (frac * vals).sum() "
      ],
      "execution_count": null,
      "outputs": []
    },
    {
      "cell_type": "code",
      "metadata": {
        "id": "eLKE_kl0k-JV",
        "colab_type": "code",
        "colab": {}
      },
      "source": [
        "# -- read geoggraphic data\n",
        "dpath   = os.path.join(\"drive\", \"My Drive\", \"lwir\", \"data\", \"lehd\", \n",
        "                       \"tl_2019_36_tabblock10/tl_2019_36_tabblock10.shp\")\n",
        "ct_full = gp.read_file(dpath)\n",
        "\n",
        "# -- convert geographic ID to intege \n",
        "ct_full[\"GEOID10\"] = ct_full[\"GEOID10\"].astype(int)\n",
        "\n",
        "# -- sub-select only New York City Counties \n",
        "cnums  = [\"061\"]\n",
        "ind    = ct_full.COUNTYFP10.isin(cnums)\n",
        "ct_nyc = ct_full[ind]"
      ],
      "execution_count": null,
      "outputs": []
    },
    {
      "cell_type": "code",
      "metadata": {
        "id": "ZapuIfZXo4oW",
        "colab_type": "code",
        "colab": {}
      },
      "source": [
        "# -- read in the working people and residents\n",
        "\"\"\" working people and residents within 500ft \"\"\"\n",
        "wname = \"drive/My Drive/lwir/data/lehd/ny_wac_S000_JT00_2017.csv\"\n",
        "rname = \"drive/My Drive/lwir/data/lehd/ny_rac_S000_JT00_2017.csv\"\n",
        "wdata = pd.read_csv(wname)\n",
        "rdata = pd.read_csv(rname)\n",
        "wdata.rename(columns = {'w_geocode': 'GEOID10'}, inplace=True)\n",
        "rdata.rename(columns = {'h_geocode': 'GEOID10'}, inplace=True)\n",
        "\n",
        "# -- merge LEHD data\n",
        "lehd = pd.merge(wdata[[\"GEOID10\", \"C000\"]], rdata[[\"GEOID10\", \"C000\"]], \n",
        "               on=\"GEOID10\", suffixes=[\"_w\", \"_h\"], how=\"outer\").fillna(0)\n",
        "\n",
        "# -- calculate total number of people \n",
        "lehd[\"total_p\"] = lehd[\"C000_w\"] + lehd[\"C000_h\"]"
      ],
      "execution_count": null,
      "outputs": []
    },
    {
      "cell_type": "code",
      "metadata": {
        "id": "bgvKWwXkkmB2",
        "colab_type": "code",
        "colab": {
          "base_uri": "https://localhost:8080/",
          "height": 50
        },
        "outputId": "8e25872b-3c93-43c6-b5ce-4b3611ca000c"
      },
      "source": [
        "# -- merge LEHD data and geographic data \n",
        "lehd_ct = ct_nyc.merge(lehd, on=\"GEOID10\")\n",
        "print(\"init w+r epsg: \", lehd_ct.geometry.crs)\n",
        "convert_to_nyc(lehd_ct)\n",
        "print(\"converted w+r epsg: \", lehd_ct.geometry.crs)\n",
        "wrtot_manhattan = np.zeros(cam_len)\n",
        "working_manhattan = np.zeros(cam_len)\n",
        "residents_manhattan = np.zeros(cam_len)"
      ],
      "execution_count": null,
      "outputs": [
        {
          "output_type": "stream",
          "text": [
            "init w+r epsg:  epsg:4269\n",
            "converted w+r epsg:  epsg:2263\n"
          ],
          "name": "stdout"
        }
      ]
    },
    {
      "cell_type": "code",
      "metadata": {
        "id": "tlw9fewOkB41",
        "colab_type": "code",
        "colab": {}
      },
      "source": [
        "# -- calculating total number, working people and residents in manhattan\n",
        "for i in range(cam_len):\n",
        "  wrtot_manhattan[i] = integrate_geodata(lehd_ct.geometry, lehd_ct.total_p, \n",
        "                                         camera.lat[i], camera.lon[i], 500.)\n",
        " \n",
        "  working_manhattan[i] = integrate_geodata(lehd_ct.geometry, lehd_ct.C000_w,\n",
        "                                         camera.lat[i], camera.lon[i], 500.)\n",
        "  residents_manhattan[i] = integrate_geodata(lehd_ct.geometry, lehd_ct.C000_h, \n",
        "                                         camera.lat[i], camera.lon[i], 500.)"
      ],
      "execution_count": null,
      "outputs": []
    },
    {
      "cell_type": "code",
      "metadata": {
        "id": "YTlpToO-hPul",
        "colab_type": "code",
        "colab": {}
      },
      "source": [
        "#create DataFrame holding working people and residents in manhattan\n",
        "wr_manhattan = np.vstack([wrtot_manhattan, working_manhattan, \n",
        "                          residents_manhattan]).T\n",
        "wr_manhattan = pd.DataFrame(wr_manhattan)\n",
        "wr_manhattan.columns = [\"wrtot_manhattan\", \"working_manhattan\", \n",
        "                        \"residents_manhattan\"]"
      ],
      "execution_count": null,
      "outputs": []
    },
    {
      "cell_type": "code",
      "metadata": {
        "id": "bagEBO3QgZG0",
        "colab_type": "code",
        "colab": {}
      },
      "source": [
        "# -- write to csv\n",
        "oname = os.path.join(\"drive\", \"My Drive\", \"lwir\", \"data\", \"4_pop_fit\", \n",
        "                     \"wr_manhattan.csv\")\n",
        "wr_manhattan.to_csv(oname, index=False)"
      ],
      "execution_count": null,
      "outputs": []
    }
  ]
}